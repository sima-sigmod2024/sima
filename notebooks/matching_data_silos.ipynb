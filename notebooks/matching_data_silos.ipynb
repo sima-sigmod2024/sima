{
 "cells": [
  {
   "cell_type": "markdown",
   "metadata": {},
   "source": [
    "# Import packages"
   ]
  },
  {
   "cell_type": "code",
   "execution_count": 1,
   "metadata": {
    "ExecuteTime": {
     "end_time": "2022-10-11T09:53:41.675963Z",
     "start_time": "2022-10-11T09:53:37.571755Z"
    },
    "run_control": {
     "marked": false
    }
   },
   "outputs": [
    {
     "name": "stderr",
     "output_type": "stream",
     "text": [
      "Using backend: pytorch\n"
     ]
    }
   ],
   "source": [
    "import sys\n",
    "sys.path.append('../src/')\n",
    "from tools import get_coma_results, generate_ids_paths, columns_to_profiles, create_profiles_tensor, create_configuration\n",
    "from graph import create_relatedness_graphs\n",
    "from train import negative_sampling_3\n",
    "from train import train_model\n",
    "from train import compute_all_probs_labels, compute_probabilities_labels\n",
    "from train import metrics\n",
    "import pandas as pd\n",
    "from sklearn.metrics import precision_recall_curve, f1_score\n",
    "\n",
    "import torch\n",
    "import pickle\n",
    "import numpy as np\n",
    "import re\n",
    "import matplotlib.pyplot as plt"
   ]
  },
  {
   "cell_type": "markdown",
   "metadata": {},
   "source": [
    "# Dataset preperation and profiling"
   ]
  },
  {
   "cell_type": "code",
   "execution_count": 2,
   "metadata": {
    "ExecuteTime": {
     "end_time": "2022-10-11T09:53:43.127173Z",
     "start_time": "2022-10-11T09:53:42.708241Z"
    }
   },
   "outputs": [],
   "source": [
    "path_to_datasets =\"../datasets/nydata/derived_tables/\"\n",
    "cols_to_ids, files_to_paths = generate_ids_paths(path_to_datasets)"
   ]
  },
  {
   "cell_type": "markdown",
   "metadata": {},
   "source": [
    "## Profiling"
   ]
  },
  {
   "cell_type": "markdown",
   "metadata": {},
   "source": [
    "### If not pre-computed"
   ]
  },
  {
   "cell_type": "code",
   "execution_count": null,
   "metadata": {},
   "outputs": [],
   "source": [
    "cols_profiles = columns_to_features(files_to_paths)  # run this if profiles have not been pre-computed"
   ]
  },
  {
   "cell_type": "markdown",
   "metadata": {},
   "source": [
    "### If pre-computed"
   ]
  },
  {
   "cell_type": "code",
   "execution_count": 3,
   "metadata": {
    "ExecuteTime": {
     "end_time": "2022-10-11T09:53:46.396660Z",
     "start_time": "2022-10-11T09:53:46.070002Z"
    }
   },
   "outputs": [],
   "source": [
    "profiles_file = '../profiles/nydata_profiles.pickle'\n",
    "with open(profiles_file, 'rb') as file:\n",
    "    cols_profiles= pickle.load(file)"
   ]
  },
  {
   "cell_type": "code",
   "execution_count": 4,
   "metadata": {
    "ExecuteTime": {
     "end_time": "2022-10-11T09:53:46.804430Z",
     "start_time": "2022-10-11T09:53:46.748801Z"
    }
   },
   "outputs": [],
   "source": [
    "profiles_tensor = create_profiles_tensor(cols_profiles, cols_to_ids)"
   ]
  },
  {
   "cell_type": "markdown",
   "metadata": {},
   "source": [
    "## Group derived datasets per base table"
   ]
  },
  {
   "cell_type": "code",
   "execution_count": 5,
   "metadata": {
    "ExecuteTime": {
     "end_time": "2022-10-11T09:53:48.666270Z",
     "start_time": "2022-10-11T09:53:48.645984Z"
    }
   },
   "outputs": [],
   "source": [
    "cols = list(cols_to_ids.keys())\n",
    "\n",
    "base_derived = dict()\n",
    "\n",
    "for c in cols:\n",
    "    match = re.match(r\"([a-z0-9_]+)_([0-9]+)\", c[0], re.I)   \n",
    "    if match[1] in base_derived:\n",
    "        base_derived[match[1]].append(c[0])\n",
    "    else:\n",
    "        base_derived[match[1]] = [c[0]]\n",
    "\n",
    "for c,t in base_derived.items():    \n",
    "    t = list(set(t))\n",
    "    base_derived[c] = t"
   ]
  },
  {
   "cell_type": "markdown",
   "metadata": {},
   "source": [
    "# Construct relatedness graphs"
   ]
  },
  {
   "cell_type": "markdown",
   "metadata": {},
   "source": [
    "## Configure silos"
   ]
  },
  {
   "cell_type": "markdown",
   "metadata": {},
   "source": [
    "### Compute random configuration"
   ]
  },
  {
   "cell_type": "code",
   "execution_count": null,
   "metadata": {},
   "outputs": [],
   "source": [
    "silo_configuration = create_configuratione(category_tables, 4, 4, 10, 'random') # construct 10 silos where we sample exactly 4 datasets per base table (base tables selected randomly)"
   ]
  },
  {
   "cell_type": "markdown",
   "metadata": {},
   "source": [
    "### Load configuration from paper"
   ]
  },
  {
   "cell_type": "code",
   "execution_count": 6,
   "metadata": {
    "ExecuteTime": {
     "end_time": "2022-10-11T09:53:53.306995Z",
     "start_time": "2022-10-11T09:53:53.303204Z"
    }
   },
   "outputs": [],
   "source": [
    "configuration_file = '../configurations/ny_silos.pickle'\n",
    "with open(configuration_file, 'rb') as file:\n",
    "    silo_configuration = pickle.load(file)"
   ]
  },
  {
   "cell_type": "markdown",
   "metadata": {},
   "source": [
    "## Load ground truth of matches"
   ]
  },
  {
   "cell_type": "code",
   "execution_count": 7,
   "metadata": {
    "ExecuteTime": {
     "end_time": "2022-10-11T09:53:55.019669Z",
     "start_time": "2022-10-11T09:53:55.001532Z"
    }
   },
   "outputs": [],
   "source": [
    "matches_file = '../ground_truth/matches_nydata.csv'\n",
    "matches_df = pd.read_csv(matches_file)\n",
    "\n",
    "ground_truth = []\n",
    "for index, row in matches_df.iterrows():\n",
    "    ground_truth.append(((row['Dataset-1'][:-4], row['Column-1']), (row['Dataset-2'][:-4], row['Column-2'])))"
   ]
  },
  {
   "cell_type": "markdown",
   "metadata": {},
   "source": [
    "## Construct relatedness graphs"
   ]
  },
  {
   "cell_type": "code",
   "execution_count": 8,
   "metadata": {
    "ExecuteTime": {
     "end_time": "2022-10-11T09:54:01.308687Z",
     "start_time": "2022-10-11T09:53:58.508657Z"
    }
   },
   "outputs": [],
   "source": [
    "graphs, all_columns, all_cols_ids, all_ids_cols = create_relatedness_graphs(base_derived, cols_to_ids, profiles_tensor.tolist(), ground_truth, silo_configuration)"
   ]
  },
  {
   "cell_type": "markdown",
   "metadata": {},
   "source": [
    "## Get negative samples from all relatedness graphs"
   ]
  },
  {
   "cell_type": "code",
   "execution_count": 9,
   "metadata": {
    "ExecuteTime": {
     "end_time": "2022-10-11T09:54:06.343356Z",
     "start_time": "2022-10-11T09:54:02.515973Z"
    }
   },
   "outputs": [],
   "source": [
    "graphs_neg = dict()\n",
    "\n",
    "for i in range(len(graphs)):\n",
    "    graphs_neg[i] = negative_sampling_3(graphs[i]) # use negative sampling strategy #3 from the paper"
   ]
  },
  {
   "cell_type": "markdown",
   "metadata": {},
   "source": [
    "# Train model"
   ]
  },
  {
   "cell_type": "code",
   "execution_count": 10,
   "metadata": {
    "ExecuteTime": {
     "end_time": "2022-10-11T09:56:32.237348Z",
     "start_time": "2022-10-11T09:54:07.627916Z"
    }
   },
   "outputs": [
    {
     "name": "stdout",
     "output_type": "stream",
     "text": [
      "In epoch 0, loss 1.313627004623413, f1 0.9503668546676636\n",
      "In epoch 0, loss 0.9744166731834412, f1 0.759617805480957\n",
      "In epoch 0, loss 0.49144020676612854, f1 0.8502852916717529\n",
      "In epoch 0, loss 0.3284056782722473, f1 0.9288066029548645\n",
      "In epoch 0, loss 0.10556533932685852, f1 0.9645335674285889\n",
      "In epoch 0, loss 0.07025700062513351, f1 0.9845767021179199\n",
      "In epoch 0, loss 0.05114539712667465, f1 0.986910343170166\n",
      "In epoch 0, loss 0.11215249449014664, f1 0.9938979744911194\n",
      "In epoch 0, loss 0.026969680562615395, f1 0.9934335947036743\n",
      "In epoch 0, loss 0.02096991427242756, f1 0.9965035319328308\n"
     ]
    }
   ],
   "source": [
    "model = train_model(graphs, graphs_neg, 10, 256, incremental= True) # train incrementally for 10 epochs per relatedness graph"
   ]
  },
  {
   "cell_type": "markdown",
   "metadata": {},
   "source": [
    "## Embed all nodes based on the trained model"
   ]
  },
  {
   "cell_type": "code",
   "execution_count": 11,
   "metadata": {
    "ExecuteTime": {
     "end_time": "2022-10-11T09:57:52.255670Z",
     "start_time": "2022-10-11T09:57:52.158254Z"
    }
   },
   "outputs": [],
   "source": [
    "embeddings = dict()\n",
    "\n",
    "for j in range(len(graphs)):\n",
    "\n",
    "    embeddings[j] = model.gnn(graphs[j], graphs[j].ndata['feat']).detach()"
   ]
  },
  {
   "cell_type": "markdown",
   "metadata": {},
   "source": [
    "## Compute precision and recall values for different thresholds"
   ]
  },
  {
   "cell_type": "code",
   "execution_count": 12,
   "metadata": {
    "ExecuteTime": {
     "end_time": "2022-10-11T09:59:01.282837Z",
     "start_time": "2022-10-11T09:57:53.882208Z"
    },
    "scrolled": false
   },
   "outputs": [
    {
     "name": "stdout",
     "output_type": "stream",
     "text": [
      "Computing between graphs: 0 - 1\n",
      "Computing between graphs: 0 - 2\n",
      "Computing between graphs: 0 - 3\n",
      "Computing between graphs: 0 - 4\n",
      "Computing between graphs: 0 - 5\n",
      "Computing between graphs: 0 - 6\n",
      "Computing between graphs: 0 - 7\n",
      "Computing between graphs: 0 - 8\n",
      "Computing between graphs: 0 - 9\n",
      "Computing between graphs: 1 - 2\n",
      "Computing between graphs: 1 - 3\n",
      "Computing between graphs: 1 - 4\n",
      "Computing between graphs: 1 - 5\n",
      "Computing between graphs: 1 - 6\n",
      "Computing between graphs: 1 - 7\n",
      "Computing between graphs: 1 - 8\n",
      "Computing between graphs: 1 - 9\n",
      "Computing between graphs: 2 - 3\n",
      "Computing between graphs: 2 - 4\n",
      "Computing between graphs: 2 - 5\n",
      "Computing between graphs: 2 - 6\n",
      "Computing between graphs: 2 - 7\n",
      "Computing between graphs: 2 - 8\n",
      "Computing between graphs: 2 - 9\n",
      "Computing between graphs: 3 - 4\n",
      "Computing between graphs: 3 - 5\n",
      "Computing between graphs: 3 - 6\n",
      "Computing between graphs: 3 - 7\n",
      "Computing between graphs: 3 - 8\n",
      "Computing between graphs: 3 - 9\n",
      "Computing between graphs: 4 - 5\n",
      "Computing between graphs: 4 - 6\n",
      "Computing between graphs: 4 - 7\n",
      "Computing between graphs: 4 - 8\n",
      "Computing between graphs: 4 - 9\n",
      "Computing between graphs: 5 - 6\n",
      "Computing between graphs: 5 - 7\n",
      "Computing between graphs: 5 - 8\n",
      "Computing between graphs: 5 - 9\n",
      "Computing between graphs: 6 - 7\n",
      "Computing between graphs: 6 - 8\n",
      "Computing between graphs: 6 - 9\n",
      "Computing between graphs: 7 - 8\n",
      "Computing between graphs: 7 - 9\n",
      "Computing between graphs: 8 - 9\n"
     ]
    }
   ],
   "source": [
    "probabilities, labels = compute_all_probs_labels(all_columns, all_cols_ids, embeddings, ground_truth, model, len(graphs))\n",
    "precision_sima, recall_sima, thresholds_sima = precision_recall_curve(probabilities, labels)    "
   ]
  },
  {
   "cell_type": "markdown",
   "metadata": {},
   "source": [
    "# Load COMA results"
   ]
  },
  {
   "cell_type": "code",
   "execution_count": 14,
   "metadata": {
    "ExecuteTime": {
     "end_time": "2022-10-11T10:01:20.079370Z",
     "start_time": "2022-10-11T10:00:43.797261Z"
    }
   },
   "outputs": [],
   "source": [
    "coma_resuls_file = '../coma_results/nydata_coma_results.json'\n",
    "coma_results = get_coma_results(coma_resuls_file, all_cols_ids)"
   ]
  },
  {
   "cell_type": "markdown",
   "metadata": {},
   "source": [
    "## Compute precision and recall values for different thresholds"
   ]
  },
  {
   "cell_type": "code",
   "execution_count": 15,
   "metadata": {
    "ExecuteTime": {
     "end_time": "2022-10-11T10:01:32.872512Z",
     "start_time": "2022-10-11T10:01:31.159081Z"
    }
   },
   "outputs": [],
   "source": [
    "labels, probabilities = compute_probabilities_labels(coma_results, ground_truth)\n",
    "precision_coma, recall_coma, thresholds_coma = precision_recall_curve(labels, probabilities)"
   ]
  },
  {
   "cell_type": "markdown",
   "metadata": {},
   "source": [
    "# Plot results"
   ]
  },
  {
   "cell_type": "code",
   "execution_count": 16,
   "metadata": {
    "ExecuteTime": {
     "end_time": "2022-10-11T10:01:35.285271Z",
     "start_time": "2022-10-11T10:01:34.863500Z"
    }
   },
   "outputs": [
    {
     "data": {
      "image/png": "[encoded data removed]",
      "text/plain": [
       "<Figure size 432x288 with 1 Axes>"
      ]
     },
     "metadata": {
      "needs_background": "light"
     },
     "output_type": "display_data"
    }
   ],
   "source": [
    "fig, ax = plt.subplots()\n",
    "\n",
    "ax.plot(recall_sima, precision_sima, color='blue')\n",
    "\n",
    "ax.plot(recall_coma, precision_coma, color = 'grey', linestyle='dotted')\n",
    "\n",
    "plt.legend([\"SiMa\", \"COMA\"], loc=0, frameon=True)\n",
    "\n",
    "#add axis labels to plot\n",
    "ax.set_title('NY OpenData')\n",
    "ax.set_ylabel('Precision')\n",
    "ax.set_xlabel('Recall')\n",
    "\n",
    "#display plot\n",
    "plt.show()"
   ]
  },
  {
   "cell_type": "code",
   "execution_count": null,
   "metadata": {},
   "outputs": [],
   "source": []
  }
 ],
 "metadata": {
  "kernelspec": {
   "display_name": "Python 3",
   "language": "python",
   "name": "python3"
  },
  "language_info": {
   "codemirror_mode": {
    "name": "ipython",
    "version": 3
   },
   "file_extension": ".py",
   "mimetype": "text/x-python",
   "name": "python",
   "nbconvert_exporter": "python",
   "pygments_lexer": "ipython3",
   "version": "3.7.4"
  },
  "toc": {
   "base_numbering": 1,
   "nav_menu": {},
   "number_sections": true,
   "sideBar": true,
   "skip_h1_title": false,
   "title_cell": "Table of Contents",
   "title_sidebar": "Contents",
   "toc_cell": false,
   "toc_position": {},
   "toc_section_display": true,
   "toc_window_display": false
  }
 },
 "nbformat": 4,
 "nbformat_minor": 2
}
